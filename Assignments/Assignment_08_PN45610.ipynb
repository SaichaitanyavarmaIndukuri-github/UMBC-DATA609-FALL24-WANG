{
  "nbformat": 4,
  "nbformat_minor": 0,
  "metadata": {
    "colab": {
      "provenance": [],
      "include_colab_link": true
    },
    "kernelspec": {
      "name": "python3",
      "display_name": "Python 3"
    },
    "language_info": {
      "name": "python"
    }
  },
  "cells": [
    {
      "cell_type": "markdown",
      "metadata": {
        "id": "view-in-github",
        "colab_type": "text"
      },
      "source": [
        "<a href=\"https://colab.research.google.com/github/SaichaitanyavarmaIndukuri-github/UMBC-DATA609-FALL24-WANG/blob/main/Assignments/Assignment_08_PN45610.ipynb\" target=\"_parent\"><img src=\"https://colab.research.google.com/assets/colab-badge.svg\" alt=\"Open In Colab\"/></a>"
      ]
    },
    {
      "cell_type": "markdown",
      "source": [
        "# 10/16/2024"
      ],
      "metadata": {
        "id": "dYa59UPAm69U"
      }
    },
    {
      "cell_type": "code",
      "execution_count": null,
      "metadata": {
        "id": "miyRtEbHm2tR"
      },
      "outputs": [],
      "source": [
        "import pandas as pd\n",
        "import plotly.express as px\n",
        "\n",
        "import warnings\n",
        "warnings.filterwarnings('ignore')\n",
        "\n",
        "pd.set_option(\"display.max_rows\", None)\n",
        "\n",
        "df = pd.read_csv(\"https://raw.githubusercontent.com/wcj365/python-stats-dataviz/refs/heads/master/fall2024/data/World_Development_Indicators_(WDI).csv\")\n",
        "\n",
        "print(df.shape)\n",
        "df.sample(3)"
      ]
    },
    {
      "cell_type": "code",
      "source": [
        "column_names_dict = {\n",
        "    \"GDP per capita (current US$)\" : \"GDP per Capita\",\n",
        "    \"Life expectancy at birth, total (years)\" : \"Life Expectancy\",\n",
        "    \"Population, total\" : \"Population\"\n",
        "}\n",
        "\n",
        "df = df.rename(columns=column_names_dict)\n",
        "df.sample(3)"
      ],
      "metadata": {
        "id": "5jsZ2HlMoBgO"
      },
      "execution_count": null,
      "outputs": []
    },
    {
      "cell_type": "code",
      "source": [
        "df.sample(3).T"
      ],
      "metadata": {
        "id": "jWfgC1osqnxg"
      },
      "execution_count": null,
      "outputs": []
    },
    {
      "cell_type": "markdown",
      "source": [
        "## Section One\n",
        "\n",
        "Summary Statistics with describe() function"
      ],
      "metadata": {
        "id": "7xNKKN0sryqI"
      }
    },
    {
      "cell_type": "code",
      "source": [
        "df[[\"Population\",\"Life Expectancy\"]].describe()"
      ],
      "metadata": {
        "id": "Z-sGYgrInbnV"
      },
      "execution_count": null,
      "outputs": []
    },
    {
      "cell_type": "code",
      "source": [
        "df.describe()"
      ],
      "metadata": {
        "id": "rinla82UqOFO"
      },
      "execution_count": null,
      "outputs": []
    },
    {
      "cell_type": "code",
      "source": [
        "df.describe(include=\"object\")"
      ],
      "metadata": {
        "id": "Z9hiipFcpebK"
      },
      "execution_count": null,
      "outputs": []
    },
    {
      "cell_type": "code",
      "source": [
        "df.describe(include=\"object\").T"
      ],
      "metadata": {
        "id": "5bY7fPmAqVlh"
      },
      "execution_count": null,
      "outputs": []
    },
    {
      "cell_type": "markdown",
      "source": [
        "## Section Two\n",
        "\n",
        "Compute quartiles and transform a numerical column into a categorical column based on the quartiles."
      ],
      "metadata": {
        "id": "HgkmVl2Nr9W1"
      }
    },
    {
      "cell_type": "code",
      "source": [
        "def assign_quartile(gdp):\n",
        "    if gdp <= 1862.89:\n",
        "        quartile = \"1st Quartile (<=25%)\"\n",
        "    elif gdp > 1862.89 and gdp <= 6048.30:\n",
        "        quartile = \"2nd Quartile (25-50%)\"\n",
        "    elif gdp > 6048.30 and gdp <= 22137.31:\n",
        "        quartile = \"3rd Quartile (50-75%)\"\n",
        "    else:\n",
        "        quartile = \"4th Quartile (>75%)\"\n",
        "    return quartile\n",
        "\n",
        "\n",
        "hungary = assign_quartile(14294.25)\n",
        "hungary"
      ],
      "metadata": {
        "id": "n6WYClMCq2oF"
      },
      "execution_count": null,
      "outputs": []
    },
    {
      "cell_type": "code",
      "source": [
        "df_usa = df[df[\"Country Code\"] == \"USA\"]\n",
        "df_usa"
      ],
      "metadata": {
        "id": "X1407yvBuihV"
      },
      "execution_count": null,
      "outputs": []
    },
    {
      "cell_type": "code",
      "source": [
        "assign_quartile(76329.58)"
      ],
      "metadata": {
        "id": "tQnm_KEeu0vi"
      },
      "execution_count": null,
      "outputs": []
    },
    {
      "cell_type": "code",
      "source": [
        "df_2020 = df[df[\"Year\"] == 2020]\n",
        "print(df_2020.shape[0])\n",
        "print(f\"There are {df_2020.shape[0]} countries in the 2020 dataset\")\n",
        "df_2020.sample(3)"
      ],
      "metadata": {
        "id": "CFCCKy52vITP"
      },
      "execution_count": null,
      "outputs": []
    },
    {
      "cell_type": "code",
      "source": [
        "# Tuple\n",
        "df_2020.shape"
      ],
      "metadata": {
        "id": "oWNY3dBIvbTP"
      },
      "execution_count": null,
      "outputs": []
    },
    {
      "cell_type": "markdown",
      "source": [
        "## In-class Exercise\n",
        "\n",
        "Create a new column call \"GDP Quartile\" in the df_2020 dataframe and assign each country the quartile it belongs to by applying the assign_quartile() function.\n"
      ],
      "metadata": {
        "id": "JJC4nFU9wC-s"
      }
    },
    {
      "cell_type": "code",
      "source": [
        "df_2020[\"GDP Quartile\"] = df_2020[\"GDP per Capita\"].apply(assign_quartile)\n",
        "\n",
        "print(df_2020.shape[0])\n",
        "print(df_2020[\"GDP Quartile\"].value_counts())"
      ],
      "metadata": {
        "id": "2RTn_Z2wv_Ss"
      },
      "execution_count": null,
      "outputs": []
    },
    {
      "cell_type": "code",
      "source": [
        "df_2020.sample(10)"
      ],
      "metadata": {
        "id": "bEfbxl2G3BVq"
      },
      "execution_count": null,
      "outputs": []
    },
    {
      "cell_type": "code",
      "source": [
        "df_4th = df_2020[df_2020[\"GDP Quartile\"] == \"4th Quartile (>75%)\"]\n",
        "df_4th.shape"
      ],
      "metadata": {
        "id": "oTP4fa973xRp"
      },
      "execution_count": null,
      "outputs": []
    },
    {
      "cell_type": "code",
      "source": [
        "\", \".join(list(df_4th[\"Country\"]))"
      ],
      "metadata": {
        "id": "YOUCFi-X4VgD"
      },
      "execution_count": null,
      "outputs": []
    },
    {
      "cell_type": "code",
      "source": [
        "\n",
        "\n",
        "quartile_groups = df_2020.groupby(\"GDP Quartile\")[\"Country\"].apply(list)\n",
        "\n",
        "\n",
        "for quartile, countries in quartile_groups.items():\n",
        "  print(f\"{quartile}:\")\n",
        "  for country in countries:\n",
        "      print(f\"  - {country}\")\n",
        "  print(\"\\n\")"
      ],
      "metadata": {
        "id": "KXMOB6aLzSSd"
      },
      "execution_count": null,
      "outputs": []
    },
    {
      "cell_type": "code",
      "source": [
        "for quartile, countries in quartile_groups.items():\n",
        "  print(f\"{quartile}:\")\n",
        "  for country in countries:\n",
        "      print(f\"  - {country}\")\n",
        "  print(\"\\n\")"
      ],
      "metadata": {
        "id": "Mf-tQG7y0eBX"
      },
      "execution_count": null,
      "outputs": []
    },
    {
      "cell_type": "code",
      "source": [
        "df_2020 = df_2020.dropna()\n",
        "df_2020[\"GDP (Rounded)\"] = df_2020[\"GDP per Capita\"].apply(round)\n",
        "df_2020.sample(5)"
      ],
      "metadata": {
        "id": "OVslhDEy6QL-"
      },
      "execution_count": null,
      "outputs": []
    },
    {
      "cell_type": "code",
      "source": [
        "def pop_million(pop):\n",
        "    return pop / 1000000\n",
        "\n",
        "\n",
        "df_2020[\"Population (Million)\"] = df_2020[\"Population\"].apply(pop_million)\n",
        "\n",
        "df_2020.sample(5)"
      ],
      "metadata": {
        "id": "O4diiqtC7Huu"
      },
      "execution_count": null,
      "outputs": []
    },
    {
      "cell_type": "code",
      "source": [
        "df_2020[\"Population2 (Million)\"] = df_2020[\"Population\"].apply(lambda pop : pop / 1000000)\n",
        "df_2020.sample(5)"
      ],
      "metadata": {
        "id": "sL35KvTv8CQR"
      },
      "execution_count": null,
      "outputs": []
    },
    {
      "cell_type": "markdown",
      "source": [
        "## Homework Question 1\n",
        "\n",
        "Save the summary statistics of all numerical columns and all categorical columns to only one Excel spreadsheet file with two worksheets, one for numerical and one for categorical columns."
      ],
      "metadata": {
        "id": "oTB9WwHgq-_s"
      }
    },
    {
      "cell_type": "code",
      "source": [
        "# Makes an Excel workbook with sheets, 'Numerical' and 'Categorical', and they\n",
        "# contain numerical and categorical summary statistics, respectively.\n",
        "with pd.ExcelWriter('summary_stats.xlsx') as writer:\n",
        "    df.describe().to_excel(writer, sheet_name='Numerical')\n",
        "    df.describe(include='object').to_excel(writer, sheet_name='Categorical')"
      ],
      "metadata": {
        "id": "A3uKckGrTM3A"
      },
      "execution_count": null,
      "outputs": []
    },
    {
      "cell_type": "markdown",
      "source": [
        "## Homework Question 2\n",
        "\n",
        "Create a new column that is the GDP per Capita rounded to 2 decimal points by using the Python's build function \"round\"\n",
        "Hint: apply the round function/method and provide a parameter 2."
      ],
      "metadata": {
        "id": "Nu9Fd5jZ8j-3"
      }
    },
    {
      "cell_type": "code",
      "source": [
        "# Replaces the 'GDP per Capita' column with a new column with the GDP values\n",
        "# rounded to (2) decimal places.\n",
        "df['GDP per Capita 2'] = df['GDP per Capita'].apply(lambda gdp: round(gdp, 2))\n",
        "df.sample(5)"
      ],
      "metadata": {
        "id": "KlZYWXY19Pyf"
      },
      "execution_count": null,
      "outputs": []
    },
    {
      "cell_type": "code",
      "source": [
        "def round_gdp(gdp, dec):\n",
        "    return round(gdp, dec)\n",
        "\n",
        "\n",
        "df['GDP per Capita 3'] = df['GDP per Capita'].apply(round_gdp, args=(5,))\n",
        "df.sample(5)"
      ],
      "metadata": {
        "id": "agRzo1Zhrtok"
      },
      "execution_count": null,
      "outputs": []
    },
    {
      "cell_type": "markdown",
      "source": [
        "## Homework Question 3 (bonus, will cover next week)\n",
        "\n",
        "step 1 - create a column \"Life Expectancy Quartile\" similar to the GDP per Capita Quartile above.\n",
        "Step 2 - Create a column \"health and wealth status\" based on the following definition\n",
        "- rich and healthy (1st GDP per capita quartile and 1st life expentancy quartile)\n",
        "- poor and unhealthy ((4th GDP per capita quartile and 4th life expentancy quartile)\n",
        "- rich and unhealthy (1st GDP per capita quartile and 4th life expentancy quartile)\n",
        "- poor and healthy ((4th GDP per capita quartile and 1st life expentancy quartile)\n",
        "- Other"
      ],
      "metadata": {
        "id": "wVFW_eb19dxB"
      }
    },
    {
      "cell_type": "code",
      "source": [
        "print(df.shape)\n",
        "df.sample(5)"
      ],
      "metadata": {
        "id": "7ovyO0IR0-IN"
      },
      "execution_count": null,
      "outputs": []
    },
    {
      "cell_type": "code",
      "source": [
        "df_2020 = df[df[\"Year\"] == 2020]\n",
        "print(df_2020.shape)\n",
        "df_2020.sample(5)"
      ],
      "metadata": {
        "id": "u7-7zZFX1IvB"
      },
      "execution_count": null,
      "outputs": []
    },
    {
      "cell_type": "code",
      "source": [
        "df_2020 = df_2020.dropna(subset=[\"GDP per Capita\", \"Life Expectancy\"])\n",
        "df_2020.shape"
      ],
      "metadata": {
        "id": "X_gmNPoG3CTH"
      },
      "execution_count": null,
      "outputs": []
    },
    {
      "cell_type": "code",
      "source": [
        "# Step 1: Creates 'Life Expectancy Quartile' column and lists the quartile the row falls under.\n",
        "df_2020['Life Expectancy'].describe()\n",
        "\n"
      ],
      "metadata": {
        "id": "YpWl2BEHVUTd"
      },
      "execution_count": null,
      "outputs": []
    },
    {
      "cell_type": "code",
      "source": [
        "x = df_2020['Life Expectancy'].describe()['25%']\n",
        "y = df_2020['Life Expectancy'].describe()['50%']\n",
        "z = df_2020['Life Expectancy'].describe()['75%']"
      ],
      "metadata": {
        "id": "6iy_j1p1uCUH"
      },
      "execution_count": null,
      "outputs": []
    },
    {
      "cell_type": "code",
      "source": [
        "def assign_quartile_life(life_exp, x, y, z):\n",
        "    if life_exp <= x:\n",
        "        quartile = \"1st Quartile (<=25%)\"\n",
        "    elif life_exp > x and life_exp <= y:\n",
        "        quartile = \"2nd Quartile (25-50%)\"\n",
        "    elif life_exp > y and life_exp <= z:\n",
        "        quartile = \"3rd Quartile (50-75%)\"\n",
        "    else:\n",
        "        quartile = \"4th Quartile (>75%)\"\n",
        "    return quartile\n",
        "\n",
        "df_2020['Life Expectancy Quartile'] = df_2020['Life Expectancy'].apply(assign_quartile_life, args=(x, y, z,))\n",
        "df_2020.sample(5)"
      ],
      "metadata": {
        "id": "_RMqLC5ytseE"
      },
      "execution_count": null,
      "outputs": []
    },
    {
      "cell_type": "code",
      "source": [
        "x = df_2020['GDP per Capita'].describe()['25%']\n",
        "y = df_2020['GDP per Capita'].describe()['50%']\n",
        "z = df_2020['GDP per Capita'].describe()['75%']\n",
        "\n",
        "print(x, y, z)"
      ],
      "metadata": {
        "id": "KRmbzvXrvnWZ"
      },
      "execution_count": null,
      "outputs": []
    },
    {
      "cell_type": "code",
      "source": [
        "# Step 2: Creates 'GDP Quartile' column and lists the quartile the row falls under.\n",
        "# Next, creates 'Health and Wealth Status' column which categorizes a row if\n",
        "# a country and a year falls under (4) different categories.\n",
        "\n",
        "def assign_quartile(gdp, x, y, z):\n",
        "  if gdp < x:\n",
        "    quartile = '1st Quartile (<=25%)'\n",
        "  elif gdp > x and gdp <= y:\n",
        "    quartile = '2nd Quartile (25-50%)'\n",
        "  elif gdp > y and gdp <= z:\n",
        "    quartile = '3rd Quartile (50-75%)'\n",
        "  else:\n",
        "    quartile = '4th Quartile (>75%)'\n",
        "  return quartile\n",
        "\n",
        "df_2020['GDP Quartile'] =  df_2020['GDP per Capita'].apply(assign_quartile, args=(x, y, z,))\n",
        "df_2020.sample(10)\n"
      ],
      "metadata": {
        "id": "aU0ou9jwX09n"
      },
      "execution_count": null,
      "outputs": []
    },
    {
      "cell_type": "code",
      "source": [
        "def find_status(row):\n",
        "  if (row['Life Expectancy Quartile'] == \"1st Quartile (<=25%)\") and (row['GDP Quartile'] == \"1st Quartile (<=25%)\"):\n",
        "    return 'Poor and unhealthy'\n",
        "  elif (row['Life Expectancy Quartile'] == \"4th Quartile (>75%)\") and (row['GDP Quartile'] == \"1st Quartile (<=25%)\"):\n",
        "    return 'Poor but healthy'\n",
        "  elif (row['Life Expectancy Quartile'] == \"4th Quartile (>75%)\") and (row['GDP Quartile'] == \"4th Quartile (>75%)\"):\n",
        "    return 'Rich and healthy'\n",
        "  elif (row['Life Expectancy Quartile'] == \"3rd Quartile (50-75%)\") and (row['GDP Quartile'] == \"4th Quartile (>75%)\"):\n",
        "    return 'Rich and somewhat healthy'\n",
        "  elif (row['Life Expectancy Quartile'] == \"2nd Quartile (25-50%)\") and (row['GDP Quartile'] == \"4th Quartile (>75%)\"):\n",
        "    return 'Rich and somewhat unhealthy'\n",
        "  elif (row['Life Expectancy Quartile'] == \"1st Quartile (<=25%)\") and (row['GDP Quartile'] == \"4th Quartile (>75%)\"):\n",
        "    return 'Rich but unhealthy'\n",
        "  else:\n",
        "    return 'Other'\n",
        "\n",
        "df_2020['Health and Wealth Status'] = df_2020.apply(find_status,axis=1)\n",
        "df_2020.sample(10)"
      ],
      "metadata": {
        "id": "USOiSNdFvSf6"
      },
      "execution_count": null,
      "outputs": []
    },
    {
      "cell_type": "code",
      "source": [
        "df_2020[\"Health and Wealth Status\"].value_counts()"
      ],
      "metadata": {
        "id": "Pps0H4teCnFz"
      },
      "execution_count": null,
      "outputs": []
    },
    {
      "cell_type": "markdown",
      "source": [
        "# Countries that belong to each status category."
      ],
      "metadata": {
        "id": "7BAbUKpSyhv-"
      }
    },
    {
      "cell_type": "code",
      "source": [
        "df_rich_healthy = df_2020[df_2020[\"Health and Wealth Status\"] == \"Rich and healthy\"]\n",
        "print(df_rich_healthy.shape)\n",
        "df_rich_healthy.sample(5)"
      ],
      "metadata": {
        "id": "8mooSJTZzENL"
      },
      "execution_count": null,
      "outputs": []
    },
    {
      "cell_type": "code",
      "source": [
        "df_rich_healthy[\"Country\"].unique()"
      ],
      "metadata": {
        "id": "4E-nQ2hmzqQE"
      },
      "execution_count": null,
      "outputs": []
    },
    {
      "cell_type": "code",
      "source": [
        "df_poor_unhealthy = df_2020[df_2020[\"Health and Wealth Status\"] == \"Poor and unhealthy\"]\n",
        "print(df_poor_unhealthy.shape)\n",
        "df_poor_unhealthy[\"Country\"].unique()"
      ],
      "metadata": {
        "id": "mhLamHn6z_cy"
      },
      "execution_count": null,
      "outputs": []
    },
    {
      "cell_type": "code",
      "source": [
        "df_poor_healthy = df_2020[df_2020[\"Health and Wealth Status\"] == \"Poor but healthy\"]\n",
        "print(df_poor_healthy.shape)\n",
        "df_poor_healthy[\"Country\"].unique()"
      ],
      "metadata": {
        "id": "ojDNhOLB2GoM"
      },
      "execution_count": null,
      "outputs": []
    },
    {
      "cell_type": "code",
      "source": [
        "df_rich_unhealthy = df_2020[df_2020[\"Health and Wealth Status\"] == \"Rich but unhealthy\"]\n",
        "print(df_rich_unhealthy.shape)\n",
        "df_rich_unhealthy[\"Country\"].unique()"
      ],
      "metadata": {
        "id": "I7W9DvAM2Wv2"
      },
      "execution_count": null,
      "outputs": []
    },
    {
      "cell_type": "code",
      "source": [
        "df_rich_unhealthy"
      ],
      "metadata": {
        "id": "k_tzwKRj2s4p"
      },
      "execution_count": null,
      "outputs": []
    },
    {
      "cell_type": "code",
      "source": [
        "df_other = df_2020[df_2020[\"Health and Wealth Status\"] == \"Other\"]\n",
        "df_other[\"Country\"].nunique()"
      ],
      "metadata": {
        "id": "u7hs4QFf3uOX"
      },
      "execution_count": null,
      "outputs": []
    },
    {
      "cell_type": "markdown",
      "source": [
        "# Choropleth - Chorom (colorful), pleth -map, place.\n",
        "\n",
        "Plot population of countries over a map using plotly"
      ],
      "metadata": {
        "id": "WFX6Al-Y8Q8R"
      }
    },
    {
      "cell_type": "code",
      "source": [
        "# Create the plot\n",
        "fig = px.choropleth(\n",
        "    df_2020,\n",
        "    locations=\"Country\",\n",
        "    locationmode='country names',\n",
        "    color=\"Health and Wealth Status\",\n",
        "    hover_name=\"Country\",\n",
        "#    color_continuous_scale=px.colors.sequential.Inferno\n",
        ")\n",
        "\n",
        "# Show the plot\n",
        "fig.show()"
      ],
      "metadata": {
        "id": "5QnaQwLA-C2G"
      },
      "execution_count": null,
      "outputs": []
    },
    {
      "cell_type": "markdown",
      "source": [
        "## Home work Question 1: Assignment 8\n",
        "Following what we did in class, further break down the category of poor countries and use additional statuses:\n",
        "\n",
        "- Poor and somewhat healthy\n",
        "- Poor and somewhat unhealthy\n",
        "\n",
        "Then make the choropleth plot."
      ],
      "metadata": {
        "id": "AKzTezVoED0B"
      }
    },
    {
      "cell_type": "code",
      "source": [
        "def find_status(row):\n",
        "  if (row['Life Expectancy Quartile'] == \"1st Quartile (<=25%)\") and (row['GDP Quartile'] == \"1st Quartile (<=25%)\"):\n",
        "    return 'Poor and unhealthy'\n",
        "  elif (row['Life Expectancy Quartile'] == \"4th Quartile (>75%)\") and (row['GDP Quartile'] == \"1st Quartile (<=25%)\"):\n",
        "    return 'Poor but healthy'\n",
        "  elif (row['Life Expectancy Quartile'] == \"4th Quartile (>75%)\") and (row['GDP Quartile'] == \"4th Quartile (>75%)\"):\n",
        "    return 'Rich and healthy'\n",
        "  elif (row['Life Expectancy Quartile'] == \"3rd Quartile (50-75%)\") and (row['GDP Quartile'] == \"1st Quartile (<=25%)\"):\n",
        "    return 'Poor and somewhat healthy'\n",
        "  elif (row['Life Expectancy Quartile'] == \"2nd Quartile (25-50%)\") and (row['GDP Quartile'] == \"1st Quartile (<=25%)\"):\n",
        "    return 'Poor and somewhat unhealthy'\n",
        "  elif (row['Life Expectancy Quartile'] == \"3rd Quartile (50-75%)\") and (row['GDP Quartile'] == \"4th Quartile (>75%)\"):\n",
        "    return 'Rich and somewhat healthy'\n",
        "  elif (row['Life Expectancy Quartile'] == \"2nd Quartile (25-50%)\") and (row['GDP Quartile'] == \"4th Quartile (>75%)\"):\n",
        "    return 'Rich and somewhat unhealthy'\n",
        "  elif (row['Life Expectancy Quartile'] == \"1st Quartile (<=25%)\") and (row['GDP Quartile'] == \"4th Quartile (>75%)\"):\n",
        "    return 'Rich but unhealthy'\n",
        "  else:\n",
        "    return 'Other'\n",
        "\n",
        "df_2020['Health and Wealth Status'] = df_2020.apply(find_status,axis=1)\n",
        "df_2020.sample(15)"
      ],
      "metadata": {
        "id": "3tUSeBDOkYkx"
      },
      "execution_count": null,
      "outputs": []
    },
    {
      "cell_type": "code",
      "source": [
        "# Create the plot\n",
        "fig = px.choropleth(\n",
        "    df_2020,\n",
        "    locations=\"Country\",\n",
        "    locationmode='country names',\n",
        "    color=\"Health and Wealth Status\",\n",
        "    hover_name=\"Country\",\n",
        "#    color_continuous_scale=px.colors.sequential.Inferno\n",
        ")\n",
        "\n",
        "# Show the plot\n",
        "fig.show()"
      ],
      "metadata": {
        "id": "xbo1PhbDj2bt"
      },
      "execution_count": null,
      "outputs": []
    },
    {
      "cell_type": "markdown",
      "source": [
        "# Home work question 2:\n",
        "\n",
        "Think of ways to avoid/eliminate the possibility of typos that cause the calculation issues. How to make your program more robust and less error-prong."
      ],
      "metadata": {
        "id": "yYlj4FBAEf_1"
      }
    },
    {
      "cell_type": "markdown",
      "source": [
        "some of the ways to avoid typos that cause calculation mistakes are :\n",
        "\n",
        "1) Use constants for column names to avoid typos. This will help you avoid mistyping column names, which can lead to runtime errors or incorrect calculations.\n",
        "\n",
        "2) Look for outliers or unexpected values that might distort calculations.\n",
        "\n",
        "3) Drop or fill NaN values before calculations to avoid errors with missing data.\n",
        "\n",
        "4) Check all input data before doing any calculations. Make sure numbers are actually numbers, values are within expected ranges, and strings are correctly formatted.\n",
        "\n",
        "5) Put any repeated logic into a single function instead of rewriting it in different parts of the code. This helps prevent typos and keeps the code consistent.\n",
        "\n",
        "6) Use try-except blocks around important operations, like loading files, to manage any issues smoothly without crashing the program."
      ],
      "metadata": {
        "id": "iE88P7S5-Bkc"
      }
    },
    {
      "cell_type": "markdown",
      "source": [],
      "metadata": {
        "id": "wvQt6ljP-Zz-"
      }
    },
    {
      "cell_type": "markdown",
      "source": [
        "## Home work question 3\n",
        "\n",
        "Find a dataset of your interest and use Jupyter Notebook to explore the dataset step by step including summary stats and data viz."
      ],
      "metadata": {
        "id": "h-c7LOHXE8iB"
      }
    },
    {
      "cell_type": "code",
      "source": [
        "import pandas as pd\n",
        "\n",
        "# Load the dataset\n",
        "df = pd.read_csv('https://raw.githubusercontent.com/msaricaumbc/DS_data/master/ds602/car_prices/car_prices.csv', low_memory=False)\n",
        "\n",
        "# Display the first few rows\n",
        "df.head()\n"
      ],
      "metadata": {
        "id": "ZB8N29GMBT-8"
      },
      "execution_count": null,
      "outputs": []
    },
    {
      "cell_type": "code",
      "source": [
        "\n",
        "print(df.info())"
      ],
      "metadata": {
        "id": "TGRRyoLRESPS"
      },
      "execution_count": null,
      "outputs": []
    },
    {
      "cell_type": "code",
      "source": [
        "# Check the shape of the data\n",
        "print( df.shape)\n",
        "\n"
      ],
      "metadata": {
        "id": "N_g5RoBMCVGj"
      },
      "execution_count": null,
      "outputs": []
    },
    {
      "cell_type": "code",
      "source": [
        "# Check for missing values in each column\n",
        "print(\"Missing Values in Each Column:\")\n",
        "print(df.isnull().sum())\n"
      ],
      "metadata": {
        "id": "sxq1dqvRCdQW"
      },
      "execution_count": null,
      "outputs": []
    },
    {
      "cell_type": "code",
      "source": [
        "# Convert saledate to datetime\n",
        "df['saledate'] = pd.to_datetime(df['saledate'], errors='coerce')\n",
        "\n",
        "# Check for missing values\n",
        "df.isnull().sum()\n"
      ],
      "metadata": {
        "id": "hR23H6RpE-4-"
      },
      "execution_count": null,
      "outputs": []
    },
    {
      "cell_type": "code",
      "source": [
        "# summary statistics\n",
        "df.describe()"
      ],
      "metadata": {
        "id": "Bvmu3_DXNNF1"
      },
      "execution_count": null,
      "outputs": []
    },
    {
      "cell_type": "code",
      "source": [
        "numerical_summary = df.describe()\n",
        "print(numerical_summary)"
      ],
      "metadata": {
        "id": "c1K55ZI_Kye2"
      },
      "execution_count": null,
      "outputs": []
    },
    {
      "cell_type": "code",
      "source": [
        "# Get summary statistics for categorical columns\n",
        "categorical_summary = df.describe(include='object')\n",
        "print(categorical_summary)"
      ],
      "metadata": {
        "id": "83AoALeQK3Th"
      },
      "execution_count": null,
      "outputs": []
    },
    {
      "cell_type": "code",
      "source": [
        "\n",
        "import pandas as pd\n",
        "import plotly.express as px\n",
        "import seaborn as sns\n",
        "import matplotlib.pyplot as plt\n",
        "\n",
        "# Histogram of selling price\n",
        "fig = px.histogram(df, x='sellingprice', nbins=50, title=\"Distribution of Selling Price\")\n",
        "fig.show()\n"
      ],
      "metadata": {
        "id": "VbKCRRGOFHAN"
      },
      "execution_count": null,
      "outputs": []
    },
    {
      "cell_type": "code",
      "source": [
        "# Average selling price by car make\n",
        "avg_price_by_make = df.groupby(\"make\")[\"sellingprice\"].mean().reset_index()\n",
        "\n",
        "# Bar plot of average selling price by make\n",
        "fig = px.bar(avg_price_by_make, x=\"make\", y=\"sellingprice\", title=\"Average Selling Price by Make\", color = \"make\")\n",
        "fig.show()\n"
      ],
      "metadata": {
        "id": "UGbMDA_-FgUr"
      },
      "execution_count": null,
      "outputs": []
    },
    {
      "cell_type": "code",
      "source": [
        "# Scatter plot for condition vs selling price\n",
        "fig = px.scatter(df, x='condition',\n",
        "                 y='sellingprice',\n",
        "                 color=\"make\",\n",
        "                 title=\"Condition vs Selling Price\",\n",
        "                 labels={\"condition\": \"Condition\", \"sellingprice\": \"Selling Price\"})\n",
        "fig.show()\n"
      ],
      "metadata": {
        "id": "1fZKL8m4FqkN"
      },
      "execution_count": null,
      "outputs": []
    },
    {
      "cell_type": "code",
      "source": [
        "avg_price_by_year = df.groupby('saledate')['sellingprice'].mean().reset_index()\n",
        "fig = px.scatter(df, x=\"saledate\", y=\"sellingprice\", title=\"Average Selling Price Over Time\",color = \"make\",\n",
        "                 labels={\"saledate\": \"date\", \"sellingprice\": \"Selling Price\"})\n",
        "fig.show()\n"
      ],
      "metadata": {
        "id": "1E11bF6YF6eY"
      },
      "execution_count": null,
      "outputs": []
    }
  ]
}